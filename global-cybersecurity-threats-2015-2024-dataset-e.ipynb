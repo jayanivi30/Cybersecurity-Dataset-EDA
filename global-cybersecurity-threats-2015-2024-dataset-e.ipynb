{
 "cells": [
  {
   "cell_type": "code",
   "execution_count": 1,
   "id": "7955b0e2",
   "metadata": {
    "_cell_guid": "b1076dfc-b9ad-4769-8c92-a6c4dae69d19",
    "_uuid": "8f2839f25d086af736a60e9eeb907d3b93b6e0e5",
    "execution": {
     "iopub.execute_input": "2025-04-25T18:02:45.655104Z",
     "iopub.status.busy": "2025-04-25T18:02:45.654755Z",
     "iopub.status.idle": "2025-04-25T18:02:49.211640Z",
     "shell.execute_reply": "2025-04-25T18:02:49.210405Z"
    },
    "papermill": {
     "duration": 3.564358,
     "end_time": "2025-04-25T18:02:49.213294",
     "exception": false,
     "start_time": "2025-04-25T18:02:45.648936",
     "status": "completed"
    },
    "tags": []
   },
   "outputs": [
    {
     "name": "stdout",
     "output_type": "stream",
     "text": [
      "/kaggle/input/global-cybersecurity-threats-2015-2024/Global_Cybersecurity_Threats_2015-2024.csv\n"
     ]
    }
   ],
   "source": [
    "# This Python 3 environment comes with many helpful analytics libraries installed\n",
    "# It is defined by the kaggle/python Docker image: https://github.com/kaggle/docker-python\n",
    "# For example, here's several helpful packages to load\n",
    "\n",
    "import numpy as np # linear algebra\n",
    "import pandas as pd # data processing, CSV file I/O (e.g. pd.read_csv)\n",
    "import seaborn as sns\n",
    "import matplotlib.pyplot as plt\n",
    "# Input data files are available in the read-only \"../input/\" directory\n",
    "# For example, running this (by clicking run or pressing Shift+Enter) will list all files under the input directory\n",
    "\n",
    "import os\n",
    "for dirname, _, filenames in os.walk('/kaggle/input'):\n",
    "    for filename in filenames:\n",
    "        print(os.path.join(dirname, filename))\n",
    "\n",
    "# You can write up to 20GB to the current directory (/kaggle/working/) that gets preserved as output when you create a version using \"Save & Run All\" \n",
    "# You can also write temporary files to /kaggle/temp/, but they won't be saved outside of the current session"
   ]
  },
  {
   "cell_type": "markdown",
   "id": "16e91eb8",
   "metadata": {
    "papermill": {
     "duration": 0.003983,
     "end_time": "2025-04-25T18:02:49.221762",
     "exception": false,
     "start_time": "2025-04-25T18:02:49.217779",
     "status": "completed"
    },
    "tags": []
   },
   "source": [
    "# **Global Cybersecurity Threats (2015-2024) Dataset EDA**"
   ]
  },
  {
   "cell_type": "markdown",
   "id": "24e7a0cc",
   "metadata": {
    "papermill": {
     "duration": 0.003639,
     "end_time": "2025-04-25T18:02:49.229342",
     "exception": false,
     "start_time": "2025-04-25T18:02:49.225703",
     "status": "completed"
    },
    "tags": []
   },
   "source": [
    "![](http:www.zdnet.com/a/img/resize/438fb630b4e3926c9bd26eaef633fec2e110810e/2020/02/21/ed8fd91f-6a8c-4099-b2ab-a88ad781f42d/istock-1097676716.jpg?width=770&height=578&fit=crop&auto=webp)"
   ]
  },
  {
   "cell_type": "markdown",
   "id": "6dc846f5",
   "metadata": {
    "papermill": {
     "duration": 0.003577,
     "end_time": "2025-04-25T18:02:49.236783",
     "exception": false,
     "start_time": "2025-04-25T18:02:49.233206",
     "status": "completed"
    },
    "tags": []
   },
   "source": [
    "# About Dataset"
   ]
  },
  {
   "cell_type": "markdown",
   "id": "6bf849e2",
   "metadata": {
    "papermill": {
     "duration": 0.00365,
     "end_time": "2025-04-25T18:02:49.244232",
     "exception": false,
     "start_time": "2025-04-25T18:02:49.240582",
     "status": "completed"
    },
    "tags": []
   },
   "source": [
    "The Global Cybersecurity Threats Dataset (2015-2024) provides extensive data on cyberattacks, malware types, targeted industries, and affected countries. It is designed for threat intelligence analysis, cybersecurity trend forecasting, and machine learning model development to enhance global digital security."
   ]
  },
  {
   "cell_type": "markdown",
   "id": "1d7d458c",
   "metadata": {
    "papermill": {
     "duration": 0.003574,
     "end_time": "2025-04-25T18:02:49.251531",
     "exception": false,
     "start_time": "2025-04-25T18:02:49.247957",
     "status": "completed"
    },
    "tags": []
   },
   "source": [
    "# Data Loading and Exploration"
   ]
  },
  {
   "cell_type": "markdown",
   "id": "54e0ad4f",
   "metadata": {
    "papermill": {
     "duration": 0.003487,
     "end_time": "2025-04-25T18:02:49.258816",
     "exception": false,
     "start_time": "2025-04-25T18:02:49.255329",
     "status": "completed"
    },
    "tags": []
   },
   "source": [
    "## Load CSV file and create a dataframe"
   ]
  },
  {
   "cell_type": "code",
   "execution_count": 2,
   "id": "9488b043",
   "metadata": {
    "execution": {
     "iopub.execute_input": "2025-04-25T18:02:49.267799Z",
     "iopub.status.busy": "2025-04-25T18:02:49.267389Z",
     "iopub.status.idle": "2025-04-25T18:02:49.374870Z",
     "shell.execute_reply": "2025-04-25T18:02:49.374083Z"
    },
    "papermill": {
     "duration": 0.113998,
     "end_time": "2025-04-25T18:02:49.376594",
     "exception": false,
     "start_time": "2025-04-25T18:02:49.262596",
     "status": "completed"
    },
    "tags": []
   },
   "outputs": [],
   "source": [
    "df=pd.read_csv(\"/kaggle/input/global-cybersecurity-threats-2015-2024/Global_Cybersecurity_Threats_2015-2024.csv\")"
   ]
  },
  {
   "cell_type": "markdown",
   "id": "05c54405",
   "metadata": {
    "papermill": {
     "duration": 0.003662,
     "end_time": "2025-04-25T18:02:49.384444",
     "exception": false,
     "start_time": "2025-04-25T18:02:49.380782",
     "status": "completed"
    },
    "tags": []
   },
   "source": [
    "## Understanding the data"
   ]
  },
  {
   "cell_type": "code",
   "execution_count": 3,
   "id": "bd6a3c0f",
   "metadata": {
    "execution": {
     "iopub.execute_input": "2025-04-25T18:02:49.393701Z",
     "iopub.status.busy": "2025-04-25T18:02:49.392996Z",
     "iopub.status.idle": "2025-04-25T18:02:49.434498Z",
     "shell.execute_reply": "2025-04-25T18:02:49.433072Z"
    },
    "papermill": {
     "duration": 0.047668,
     "end_time": "2025-04-25T18:02:49.435948",
     "exception": false,
     "start_time": "2025-04-25T18:02:49.388280",
     "status": "completed"
    },
    "tags": []
   },
   "outputs": [
    {
     "name": "stdout",
     "output_type": "stream",
     "text": [
      "(3000, 10)\n",
      "------------------------------------------------------------------------------------------\n",
      "<class 'pandas.core.frame.DataFrame'>\n",
      "RangeIndex: 3000 entries, 0 to 2999\n",
      "Data columns (total 10 columns):\n",
      " #   Column                               Non-Null Count  Dtype  \n",
      "---  ------                               --------------  -----  \n",
      " 0   Country                              3000 non-null   object \n",
      " 1   Year                                 3000 non-null   int64  \n",
      " 2   Attack Type                          3000 non-null   object \n",
      " 3   Target Industry                      3000 non-null   object \n",
      " 4   Financial Loss (in Million $)        3000 non-null   float64\n",
      " 5   Number of Affected Users             3000 non-null   int64  \n",
      " 6   Attack Source                        3000 non-null   object \n",
      " 7   Security Vulnerability Type          3000 non-null   object \n",
      " 8   Defense Mechanism Used               3000 non-null   object \n",
      " 9   Incident Resolution Time (in Hours)  3000 non-null   int64  \n",
      "dtypes: float64(1), int64(3), object(6)\n",
      "memory usage: 234.5+ KB\n",
      "None\n",
      "------------------------------------------------------------------------------------------\n",
      "<bound method NDFrame.describe of       Country  Year        Attack Type     Target Industry  \\\n",
      "0       China  2019           Phishing           Education   \n",
      "1       China  2019         Ransomware              Retail   \n",
      "2       India  2017  Man-in-the-Middle                  IT   \n",
      "3          UK  2024         Ransomware  Telecommunications   \n",
      "4     Germany  2018  Man-in-the-Middle                  IT   \n",
      "...       ...   ...                ...                 ...   \n",
      "2995       UK  2021         Ransomware          Government   \n",
      "2996   Brazil  2023      SQL Injection  Telecommunications   \n",
      "2997   Brazil  2017      SQL Injection                  IT   \n",
      "2998       UK  2022      SQL Injection                  IT   \n",
      "2999  Germany  2021      SQL Injection              Retail   \n",
      "\n",
      "      Financial Loss (in Million $)  Number of Affected Users Attack Source  \\\n",
      "0                             80.53                    773169  Hacker Group   \n",
      "1                             62.19                    295961  Hacker Group   \n",
      "2                             38.65                    605895  Hacker Group   \n",
      "3                             41.44                    659320  Nation-state   \n",
      "4                             74.41                    810682       Insider   \n",
      "...                             ...                       ...           ...   \n",
      "2995                          51.42                    190694       Unknown   \n",
      "2996                          30.28                    892843  Hacker Group   \n",
      "2997                          32.97                    734737  Nation-state   \n",
      "2998                          32.17                    379954       Insider   \n",
      "2999                          48.20                    480984       Unknown   \n",
      "\n",
      "     Security Vulnerability Type Defense Mechanism Used  \\\n",
      "0             Unpatched Software                    VPN   \n",
      "1             Unpatched Software               Firewall   \n",
      "2                 Weak Passwords                    VPN   \n",
      "3             Social Engineering     AI-based Detection   \n",
      "4             Social Engineering                    VPN   \n",
      "...                          ...                    ...   \n",
      "2995          Social Engineering               Firewall   \n",
      "2996                    Zero-day                    VPN   \n",
      "2997              Weak Passwords     AI-based Detection   \n",
      "2998          Unpatched Software               Firewall   \n",
      "2999                    Zero-day                    VPN   \n",
      "\n",
      "      Incident Resolution Time (in Hours)  \n",
      "0                                      63  \n",
      "1                                      71  \n",
      "2                                      20  \n",
      "3                                       7  \n",
      "4                                      68  \n",
      "...                                   ...  \n",
      "2995                                   52  \n",
      "2996                                   26  \n",
      "2997                                   30  \n",
      "2998                                    9  \n",
      "2999                                   64  \n",
      "\n",
      "[3000 rows x 10 columns]>\n",
      "------------------------------------------------------------------------------------------\n"
     ]
    }
   ],
   "source": [
    "print(df.shape)\n",
    "print(\"---\"*30)\n",
    "print(df.info())\n",
    "print(\"---\"*30)\n",
    "print(df.describe)\n",
    "print(\"---\"*30)"
   ]
  },
  {
   "cell_type": "markdown",
   "id": "1db65fbb",
   "metadata": {
    "papermill": {
     "duration": 0.00403,
     "end_time": "2025-04-25T18:02:49.444304",
     "exception": false,
     "start_time": "2025-04-25T18:02:49.440274",
     "status": "completed"
    },
    "tags": []
   },
   "source": [
    "## Checking missing values"
   ]
  },
  {
   "cell_type": "code",
   "execution_count": 4,
   "id": "97aef700",
   "metadata": {
    "execution": {
     "iopub.execute_input": "2025-04-25T18:02:49.453712Z",
     "iopub.status.busy": "2025-04-25T18:02:49.453401Z",
     "iopub.status.idle": "2025-04-25T18:02:49.461218Z",
     "shell.execute_reply": "2025-04-25T18:02:49.460337Z"
    },
    "papermill": {
     "duration": 0.014428,
     "end_time": "2025-04-25T18:02:49.462734",
     "exception": false,
     "start_time": "2025-04-25T18:02:49.448306",
     "status": "completed"
    },
    "tags": []
   },
   "outputs": [
    {
     "name": "stdout",
     "output_type": "stream",
     "text": [
      "Country                                0\n",
      "Year                                   0\n",
      "Attack Type                            0\n",
      "Target Industry                        0\n",
      "Financial Loss (in Million $)          0\n",
      "Number of Affected Users               0\n",
      "Attack Source                          0\n",
      "Security Vulnerability Type            0\n",
      "Defense Mechanism Used                 0\n",
      "Incident Resolution Time (in Hours)    0\n",
      "dtype: int64\n",
      "------------------------------------------------------------------------------------------\n"
     ]
    }
   ],
   "source": [
    "print(df.isnull().sum())\n",
    "print(\"---\"*30)\n",
    "df.columns=df.columns.str.strip()"
   ]
  },
  {
   "cell_type": "markdown",
   "id": "26281f70",
   "metadata": {
    "papermill": {
     "duration": 0.003985,
     "end_time": "2025-04-25T18:02:49.471136",
     "exception": false,
     "start_time": "2025-04-25T18:02:49.467151",
     "status": "completed"
    },
    "tags": []
   },
   "source": [
    "## Checking duplicate values"
   ]
  },
  {
   "cell_type": "code",
   "execution_count": 5,
   "id": "7908a700",
   "metadata": {
    "execution": {
     "iopub.execute_input": "2025-04-25T18:02:49.480767Z",
     "iopub.status.busy": "2025-04-25T18:02:49.480470Z",
     "iopub.status.idle": "2025-04-25T18:02:49.494172Z",
     "shell.execute_reply": "2025-04-25T18:02:49.493111Z"
    },
    "papermill": {
     "duration": 0.020241,
     "end_time": "2025-04-25T18:02:49.495657",
     "exception": false,
     "start_time": "2025-04-25T18:02:49.475416",
     "status": "completed"
    },
    "tags": []
   },
   "outputs": [
    {
     "name": "stdout",
     "output_type": "stream",
     "text": [
      "Country                                  10\n",
      "Year                                     10\n",
      "Attack Type                               6\n",
      "Target Industry                           7\n",
      "Financial Loss (in Million $)          2536\n",
      "Number of Affected Users               2998\n",
      "Attack Source                             4\n",
      "Security Vulnerability Type               4\n",
      "Defense Mechanism Used                    5\n",
      "Incident Resolution Time (in Hours)      72\n",
      "dtype: int64\n",
      "------------------------------------------------------------------------------------------\n",
      "Duplicated values:  0\n",
      "------------------------------------------------------------------------------------------\n"
     ]
    }
   ],
   "source": [
    "print(df.nunique())\n",
    "print(\"---\"*30)\n",
    "print(\"Duplicated values: \",df.duplicated().sum())\n",
    "print(\"---\"*30)"
   ]
  },
  {
   "cell_type": "markdown",
   "id": "dce7500e",
   "metadata": {
    "papermill": {
     "duration": 0.004126,
     "end_time": "2025-04-25T18:02:49.504196",
     "exception": false,
     "start_time": "2025-04-25T18:02:49.500070",
     "status": "completed"
    },
    "tags": []
   },
   "source": [
    "# VISUALIZATION"
   ]
  },
  {
   "cell_type": "markdown",
   "id": "25e59ef7",
   "metadata": {
    "papermill": {
     "duration": 0.004394,
     "end_time": "2025-04-25T18:02:49.512760",
     "exception": false,
     "start_time": "2025-04-25T18:02:49.508366",
     "status": "completed"
    },
    "tags": []
   },
   "source": [
    "## Countplot"
   ]
  },
  {
   "cell_type": "code",
   "execution_count": 6,
   "id": "06268756",
   "metadata": {
    "execution": {
     "iopub.execute_input": "2025-04-25T18:02:49.522257Z",
     "iopub.status.busy": "2025-04-25T18:02:49.521934Z",
     "iopub.status.idle": "2025-04-25T18:02:49.788553Z",
     "shell.execute_reply": "2025-04-25T18:02:49.787541Z"
    },
    "papermill": {
     "duration": 0.272978,
     "end_time": "2025-04-25T18:02:49.789940",
     "exception": false,
     "start_time": "2025-04-25T18:02:49.516962",
     "status": "completed"
    },
    "tags": []
   },
   "outputs": [
    {
     "data": {
      "text/plain": [
       "(array([0, 1, 2, 3, 4, 5]),\n",
       " [Text(0, 0, 'Phishing'),\n",
       "  Text(1, 0, 'Ransomware'),\n",
       "  Text(2, 0, 'Man-in-the-Middle'),\n",
       "  Text(3, 0, 'DDoS'),\n",
       "  Text(4, 0, 'SQL Injection'),\n",
       "  Text(5, 0, 'Malware')])"
      ]
     },
     "execution_count": 6,
     "metadata": {},
     "output_type": "execute_result"
    },
    {
     "data": {
      "image/png": "[encoded data removed]",
      "text/plain": [
       "<Figure size 640x480 with 1 Axes>"
      ]
     },
     "metadata": {},
     "output_type": "display_data"
    }
   ],
   "source": [
    "sns.countplot(data=df,x='Attack Type')\n",
    "plt.xticks(rotation=90)"
   ]
  },
  {
   "cell_type": "markdown",
   "id": "921141fc",
   "metadata": {
    "papermill": {
     "duration": 0.004606,
     "end_time": "2025-04-25T18:02:49.799936",
     "exception": false,
     "start_time": "2025-04-25T18:02:49.795330",
     "status": "completed"
    },
    "tags": []
   },
   "source": [
    "## Bargraph"
   ]
  },
  {
   "cell_type": "code",
   "execution_count": 7,
   "id": "2d778851",
   "metadata": {
    "execution": {
     "iopub.execute_input": "2025-04-25T18:02:49.810824Z",
     "iopub.status.busy": "2025-04-25T18:02:49.810545Z",
     "iopub.status.idle": "2025-04-25T18:02:50.072592Z",
     "shell.execute_reply": "2025-04-25T18:02:50.071745Z"
    },
    "papermill": {
     "duration": 0.269246,
     "end_time": "2025-04-25T18:02:50.074093",
     "exception": false,
     "start_time": "2025-04-25T18:02:49.804847",
     "status": "completed"
    },
    "tags": []
   },
   "outputs": [
    {
     "data": {
      "image/png": "[encoded data removed]",
      "text/plain": [
       "<Figure size 1000x600 with 1 Axes>"
      ]
     },
     "metadata": {},
     "output_type": "display_data"
    }
   ],
   "source": [
    "avg_value=df.groupby('Country')['Financial Loss (in Million $)'].mean()\n",
    "avg_value.plot(kind='bar',x='Country',y='Financial Loss (in Million $)',figsize=(10,6),color='pink')\n",
    "plt.title('Countries vs Financial Loss')\n",
    "plt.xlabel('Country')\n",
    "plt.ylabel('Financial Loss')\n",
    "plt.xticks(rotation=45)\n",
    "plt.show()"
   ]
  },
  {
   "cell_type": "markdown",
   "id": "d61fea9e",
   "metadata": {
    "papermill": {
     "duration": 0.005142,
     "end_time": "2025-04-25T18:02:50.084958",
     "exception": false,
     "start_time": "2025-04-25T18:02:50.079816",
     "status": "completed"
    },
    "tags": []
   },
   "source": [
    "### The bar chart shows that Germany has faced the largest financial loss among all the other countries."
   ]
  },
  {
   "cell_type": "markdown",
   "id": "7b54f0ba",
   "metadata": {
    "papermill": {
     "duration": 0.005166,
     "end_time": "2025-04-25T18:02:50.095428",
     "exception": false,
     "start_time": "2025-04-25T18:02:50.090262",
     "status": "completed"
    },
    "tags": []
   },
   "source": [
    "## PieChart"
   ]
  },
  {
   "cell_type": "code",
   "execution_count": 8,
   "id": "9c84c91c",
   "metadata": {
    "execution": {
     "iopub.execute_input": "2025-04-25T18:02:50.107016Z",
     "iopub.status.busy": "2025-04-25T18:02:50.106731Z",
     "iopub.status.idle": "2025-04-25T18:02:50.234264Z",
     "shell.execute_reply": "2025-04-25T18:02:50.233372Z"
    },
    "papermill": {
     "duration": 0.13513,
     "end_time": "2025-04-25T18:02:50.235774",
     "exception": false,
     "start_time": "2025-04-25T18:02:50.100644",
     "status": "completed"
    },
    "tags": []
   },
   "outputs": [
    {
     "name": "stdout",
     "output_type": "stream",
     "text": [
      "Attack Type\n",
      "DDoS                 531\n",
      "Phishing             529\n",
      "SQL Injection        503\n",
      "Ransomware           493\n",
      "Malware              485\n",
      "Man-in-the-Middle    459\n",
      "Name: count, dtype: int64\n"
     ]
    },
    {
     "data": {
      "image/png": "[encoded data removed]",
      "text/plain": [
       "<Figure size 640x480 with 1 Axes>"
      ]
     },
     "metadata": {},
     "output_type": "display_data"
    }
   ],
   "source": [
    "avg_attack=df['Attack Type'].value_counts()\n",
    "print(avg_attack)\n",
    "plt.pie(avg_attack.values, labels=avg_attack.index, autopct='%1.1f%%', startangle=140)\n",
    "plt.title('Widely used Attack Type among Hackers')\n",
    "plt.show()"
   ]
  },
  {
   "cell_type": "markdown",
   "id": "e9e72d1d",
   "metadata": {
    "papermill": {
     "duration": 0.006195,
     "end_time": "2025-04-25T18:02:50.248589",
     "exception": false,
     "start_time": "2025-04-25T18:02:50.242394",
     "status": "completed"
    },
    "tags": []
   },
   "source": [
    "### From the pie chart, the widely used attack type among users is Phishing."
   ]
  },
  {
   "cell_type": "markdown",
   "id": "b9c84016",
   "metadata": {
    "papermill": {
     "duration": 0.005988,
     "end_time": "2025-04-25T18:02:50.260902",
     "exception": false,
     "start_time": "2025-04-25T18:02:50.254914",
     "status": "completed"
    },
    "tags": []
   },
   "source": [
    "*Notebook by Jayastri Nivedha*\n",
    "## ***ThankYou***"
   ]
  }
 ],
 "metadata": {
  "kaggle": {
   "accelerator": "none",
   "dataSources": [
    {
     "datasetId": 6880672,
     "sourceId": 11045772,
     "sourceType": "datasetVersion"
    }
   ],
   "dockerImageVersionId": 31012,
   "isGpuEnabled": false,
   "isInternetEnabled": false,
   "language": "python",
   "sourceType": "notebook"
  },
  "kernelspec": {
   "display_name": "Python 3",
   "language": "python",
   "name": "python3"
  },
  "language_info": {
   "codemirror_mode": {
    "name": "ipython",
    "version": 3
   },
   "file_extension": ".py",
   "mimetype": "text/x-python",
   "name": "python",
   "nbconvert_exporter": "python",
   "pygments_lexer": "ipython3",
   "version": "3.11.11"
  },
  "papermill": {
   "default_parameters": {},
   "duration": 9.933078,
   "end_time": "2025-04-25T18:02:50.786348",
   "environment_variables": {},
   "exception": null,
   "input_path": "__notebook__.ipynb",
   "output_path": "__notebook__.ipynb",
   "parameters": {},
   "start_time": "2025-04-25T18:02:40.853270",
   "version": "2.6.0"
  }
 },
 "nbformat": 4,
 "nbformat_minor": 5
}
